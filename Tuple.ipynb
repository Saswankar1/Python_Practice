{
 "cells": [
  {
   "cell_type": "code",
   "execution_count": null,
   "id": "ba2f374f",
   "metadata": {},
   "outputs": [],
   "source": [
    "# 1. Python program to Find the size of a Tuple\n",
    "def find_size_of_tuple(tuple_data):\n",
    "    return len(tuple_data)"
   ]
  },
  {
   "cell_type": "code",
   "execution_count": null,
   "id": "a6de2a8f",
   "metadata": {},
   "outputs": [],
   "source": [
    "# 2. Python – Maximum and Minimum K elements in Tuple\n",
    "def find_max_min_k_elements(tuple_data, k):\n",
    "    sorted_tuple = sorted(tuple_data)\n",
    "    max_k_elements = sorted_tuple[-k:]\n",
    "    min_k_elements = sorted_tuple[:k]\n",
    "    return max_k_elements, min_k_elements"
   ]
  },
  {
   "cell_type": "code",
   "execution_count": null,
   "id": "a6e402b4",
   "metadata": {},
   "outputs": [],
   "source": [
    "# 3. Create a list of tuples from the given list having a number and its cube in each tuple\n",
    "def create_list_of_tuples_with_cubes(input_list):\n",
    "    tuple_list = [(num, num**3) for num in input_list]\n",
    "    return tuple_list"
   ]
  },
  {
   "cell_type": "code",
   "execution_count": null,
   "id": "39ef5450",
   "metadata": {},
   "outputs": [],
   "source": [
    "# 4. Python – Adding Tuple to List and vice – versa\n",
    "def add_tuple_to_list_and_vise_versa(tuple_data, list_data):\n",
    "    tuple_added_to_list = tuple_data + tuple(list_data)\n",
    "    list_added_to_tuple = list(tuple_data) + list_data\n",
    "    return tuple_added_to_list, list_added_to_tuple"
   ]
  },
  {
   "cell_type": "code",
   "execution_count": null,
   "id": "422d66e3",
   "metadata": {},
   "outputs": [],
   "source": [
    "# 5. Python – Closest Pair to Kth index element in Tuple\n",
    "def find_closest_pair_to_kth_index(tuple_data, k):\n",
    "    target_element = tuple_data[k]\n",
    "    closest_pair = min(tuple_data, key=lambda x: abs(x - target_element))\n",
    "    return closest_pair\n"
   ]
  },
  {
   "cell_type": "code",
   "execution_count": null,
   "id": "7b2b5094",
   "metadata": {},
   "outputs": [],
   "source": [
    "# 6. Python – Join Tuples if similar initial element\n",
    "def join_tuples_with_similar_initial_element(tuple_list):\n",
    "    result_dict = {}\n",
    "    for t in tuple_list:\n",
    "        initial_element = t[0]\n",
    "        if initial_element in result_dict:\n",
    "            result_dict[initial_element] += t[1:]\n",
    "        else:\n",
    "            result_dict[initial_element] = t\n",
    "    return list(result_dict.values())"
   ]
  },
  {
   "cell_type": "code",
   "execution_count": null,
   "id": "fd53f2d2",
   "metadata": {},
   "outputs": [],
   "source": [
    "# 7. Python – Extract digits from Tuple list\n",
    "def extract_digits_from_tuple_list(tuple_list):\n",
    "    digit_list = [digit for t in tuple_list for digit in str(t) if digit.isdigit()]\n",
    "    return list(map(int, digit_list))"
   ]
  },
  {
   "cell_type": "code",
   "execution_count": null,
   "id": "1736c078",
   "metadata": {},
   "outputs": [],
   "source": [
    "# 8. Python – All pair combinations of 2 tuples\n",
    "def find_all_pair_combinations(tuple1, tuple2):\n",
    "    pair_combinations = [(x, y) for x in tuple1 for y in tuple2]\n",
    "    return pair_combinations"
   ]
  },
  {
   "cell_type": "code",
   "execution_count": null,
   "id": "6dead130",
   "metadata": {},
   "outputs": [],
   "source": [
    "# 9. Python – Remove Tuples of Length K\n",
    "def remove_tuples_of_length_k(tuple_list, k):\n",
    "    filtered_tuples = [t for t in tuple_list if len(t) != k]\n",
    "    return filtered_tuples"
   ]
  },
  {
   "cell_type": "code",
   "execution_count": null,
   "id": "f839954f",
   "metadata": {},
   "outputs": [],
   "source": [
    "# 10. Sort a list of tuples by the second Item\n",
    "def sort_list_of_tuples_by_second_item(tuple_list):\n",
    "    sorted_tuples = sorted(tuple_list, key=lambda x: x[1])\n",
    "    return sorted_tuples\n"
   ]
  },
  {
   "cell_type": "code",
   "execution_count": null,
   "id": "f132913a",
   "metadata": {},
   "outputs": [],
   "source": [
    "# 11. Python program to Order Tuples using an external List\n",
    "def order_tuples_using_external_list(tuple_list, order_list):\n",
    "    ordered_tuples = [tuple_list[i] for i in order_list]\n",
    "    return ordered_tuples\n"
   ]
  },
  {
   "cell_type": "code",
   "execution_count": null,
   "id": "24eeb9ad",
   "metadata": {},
   "outputs": [],
   "source": [
    "# 12. Python – Flatten tuple of List to tuple\n",
    "def flatten_tuple_of_list_to_tuple(tuple_of_list):\n",
    "    flattened_tuple = tuple(item for sublist in tuple_of_list for item in sublist)\n",
    "    return flattened_tuple"
   ]
  },
  {
   "cell_type": "code",
   "execution_count": null,
   "id": "f8d9110f",
   "metadata": {},
   "outputs": [],
   "source": [
    "# 13. Python – Convert Nested Tuple to Custom Key Dictionary\n",
    "def convert_nested_tuple_to_custom_key_dict(nested_tuple):\n",
    "    custom_key_dict = {t[0]: {t[1]: t[2]} for t in nested_tuple}\n",
    "    return custom_key_dict\n"
   ]
  }
 ],
 "metadata": {
  "kernelspec": {
   "display_name": "Python 3 (ipykernel)",
   "language": "python",
   "name": "python3"
  },
  "language_info": {
   "codemirror_mode": {
    "name": "ipython",
    "version": 3
   },
   "file_extension": ".py",
   "mimetype": "text/x-python",
   "name": "python",
   "nbconvert_exporter": "python",
   "pygments_lexer": "ipython3",
   "version": "3.9.12"
  }
 },
 "nbformat": 4,
 "nbformat_minor": 5
}
