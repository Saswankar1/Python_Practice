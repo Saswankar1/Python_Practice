{
 "cells": [
  {
   "cell_type": "code",
   "execution_count": null,
   "id": "670f1196",
   "metadata": {},
   "outputs": [],
   "source": [
    "# 1. Python – Extract Unique values dictionary values\n",
    "def extract_unique_values(dictionary):\n",
    "    unique_values = set()\n",
    "    for values in dictionary.values():\n",
    "        for val in values:\n",
    "            unique_values.add(val)\n",
    "    return list(unique_values)"
   ]
  },
  {
   "cell_type": "code",
   "execution_count": null,
   "id": "167a6698",
   "metadata": {},
   "outputs": [],
   "source": [
    "# 2. Python program to find the sum of all items in a dictionary\n",
    "def sum_of_dictionary_items(dictionary):\n",
    "    total_sum = 0\n",
    "    for value in dictionary.values():\n",
    "        total_sum += value\n",
    "    return total_sum"
   ]
  },
  {
   "cell_type": "code",
   "execution_count": null,
   "id": "76175d1d",
   "metadata": {},
   "outputs": [],
   "source": [
    "# 3. Python | Ways to remove a key from dictionary\n",
    "def remove_key_from_dict(dictionary, key_to_remove):\n",
    "    if key_to_remove in dictionary:\n",
    "        del dictionary[key_to_remove]\n",
    "    return dictionary"
   ]
  },
  {
   "cell_type": "code",
   "execution_count": null,
   "id": "ba37e2e0",
   "metadata": {},
   "outputs": [],
   "source": [
    "# 4. Ways to sort list of dictionaries by values in Python – Using itemgetter\n",
    "def sort_dict_list_by_values_using_itemgetter(dict_list, key):\n",
    "    sorted_list = sorted(dict_list, key=lambda x: x[key])\n",
    "    return sorted_list\n"
   ]
  },
  {
   "cell_type": "code",
   "execution_count": null,
   "id": "877cfff3",
   "metadata": {},
   "outputs": [],
   "source": [
    "# 5. Ways to sort list of dictionaries by values in Python – Using lambda function\n",
    "def sort_dict_list_by_values_using_lambda(dict_list, key):\n",
    "    sorted_list = sorted(dict_list, key=lambda x: x[key])\n",
    "    return sorted_list\n"
   ]
  },
  {
   "cell_type": "code",
   "execution_count": null,
   "id": "c9b7ca22",
   "metadata": {},
   "outputs": [],
   "source": [
    "# 6. Python | Merging two Dictionaries\n",
    "def merge_two_dicts(dict1, dict2):\n",
    "    merged_dict = {}\n",
    "    for d in [dict1, dict2]:\n",
    "        for key, value in d.items():\n",
    "            merged_dict[key] = value\n",
    "    return merged_dict\n"
   ]
  },
  {
   "cell_type": "code",
   "execution_count": null,
   "id": "89fa7164",
   "metadata": {},
   "outputs": [],
   "source": [
    "# 7. Python – Convert key-values list to flat dictionary\n",
    "def convert_kv_list_to_dict(kv_list):\n",
    "    flat_dict = {}\n",
    "    for key, value in kv_list:\n",
    "        flat_dict[key] = value\n",
    "    return flat_dict\n"
   ]
  },
  {
   "cell_type": "code",
   "execution_count": null,
   "id": "79db9f54",
   "metadata": {},
   "outputs": [],
   "source": [
    "# 8. Python – Insertion at the beginning in OrderedDict\n",
    "def insert_at_beginning_in_ordered_dict(ordered_dict, key, value):\n",
    "    ordered_dict = {key: value, **ordered_dict}\n",
    "    return ordered_dict\n"
   ]
  },
  {
   "cell_type": "code",
   "execution_count": null,
   "id": "c374c375",
   "metadata": {},
   "outputs": [],
   "source": [
    "# 9. Python | Check order of character in string using OrderedDict( )\n",
    "def check_order_of_characters(string, pattern):\n",
    "    pattern_dict = {}\n",
    "    i = 0\n",
    "    for char in pattern:\n",
    "        if char in string[i:]:\n",
    "            i = string.index(char, i) + 1\n",
    "            pattern_dict[char] = True\n",
    "        else:\n",
    "            return False\n",
    "    return True if len(pattern_dict) == len(pattern) else Fals"
   ]
  },
  {
   "cell_type": "code",
   "execution_count": null,
   "id": "4eaa1842",
   "metadata": {},
   "outputs": [],
   "source": [
    "# 10. Dictionary and counter in Python to find winner of election\n",
    "def find_election_winner(votes):\n",
    "    vote_count = {}\n",
    "    for candidate in votes:\n",
    "        if candidate in vote_count:\n",
    "            vote_count[candidate] += 1\n",
    "        else:\n",
    "            vote_count[candidate] = 1\n",
    "    \n",
    "    max_votes = 0\n",
    "    winner = None\n",
    "    for candidate, count in vote_count.items():\n",
    "        if count > max_votes:\n",
    "            max_votes = count\n",
    "            winner = candidate\n",
    "\n",
    "    return winner"
   ]
  },
  {
   "cell_type": "code",
   "execution_count": null,
   "id": "a2fe116c",
   "metadata": {},
   "outputs": [],
   "source": [
    "# 11. Python – Append Dictionary Keys and Values (In order) in dictionary\n",
    "def append_keys_values_in_order(dictionary):\n",
    "    result = {}\n",
    "    for key in sorted(dictionary):\n",
    "        result[key] = dictionary[key]\n",
    "    return result"
   ]
  },
  {
   "cell_type": "code",
   "execution_count": null,
   "id": "a9ab1d72",
   "metadata": {},
   "outputs": [],
   "source": [
    "# 12. Python | Sort Python Dictionaries by Key or Value\n",
    "def sort_dict_by_key_or_value(dictionary, by_key=True):\n",
    "    sorted_dict = {}\n",
    "    if by_key:\n",
    "        for key in sorted(dictionary):\n",
    "            sorted_dict[key] = dictionary[key]\n",
    "    else:\n",
    "        for key, value in sorted(dictionary.items(), key=lambda x: x[1]):\n",
    "            sorted_dict[key] = value\n",
    "    return sorted_dict"
   ]
  },
  {
   "cell_type": "code",
   "execution_count": null,
   "id": "555ca6ba",
   "metadata": {},
   "outputs": [],
   "source": [
    "# 13. Python – Sort Dictionary key and values List\n",
    "def sort_dict_key_values_list(dictionary):\n",
    "    sorted_dict = {}\n",
    "    for key, values in sorted(dictionary.items()):\n",
    "        sorted_dict[key] = sorted(values)\n",
    "    return sorted_dict\n"
   ]
  },
  {
   "cell_type": "code",
   "execution_count": null,
   "id": "0ffd7a57",
   "metadata": {},
   "outputs": [],
   "source": [
    "# 14. Handling missing keys in Python dictionaries\n",
    "def handle_missing_keys(dictionary, key, default_value=None):\n",
    "    return dictionary.get(key, default_value)"
   ]
  },
  {
   "cell_type": "code",
   "execution_count": null,
   "id": "36501525",
   "metadata": {},
   "outputs": [],
   "source": [
    "# 15. Python dictionary with keys having multiple inputs\n",
    "def create_multi_input_dict(keys, values):\n",
    "    multi_input_dict = {}\n",
    "    for key, value in zip(keys, values):\n",
    "        if key in multi_input_dict:\n",
    "            multi_input_dict[key].append(value)\n",
    "        else:\n",
    "            multi_input_dict[key] = [value]\n",
    "    return multi_input_dict\n"
   ]
  },
  {
   "cell_type": "code",
   "execution_count": null,
   "id": "5ffd8506",
   "metadata": {},
   "outputs": [],
   "source": [
    "# 16. Print anagrams together in Python using List and Dictionary\n",
    "def print_anagrams_together(words):\n",
    "    anagram_dict = {}\n",
    "    for word in words:\n",
    "        sorted_word = ''.join(sorted(word))\n",
    "        if sorted_word in anagram_dict:\n",
    "            anagram_dict[sorted_word].append(word)\n",
    "        else:\n",
    "            anagram_dict[sorted_word] = [word]\n",
    "    return list(anagram_dict.values())"
   ]
  },
  {
   "cell_type": "code",
   "execution_count": null,
   "id": "0bfea3ea",
   "metadata": {},
   "outputs": [],
   "source": [
    "# 17. K’th Non-repeating Character in Python using List Comprehension and OrderedDict\n",
    "from collections import OrderedDict\n",
    "\n",
    "def kth_non_repeating_character(string, k):\n",
    "    char_count = OrderedDict()\n",
    "    for char in string:\n",
    "        char_count[char] = char_count.get(char, 0) + 1\n",
    "\n",
    "    non_repeating_chars = [key for key, value in char_count.items() if value == 1]\n",
    "\n",
    "    if len(non_repeating_chars) >= k:\n",
    "        return non_repeating_chars[k - 1]\n",
    "    else:\n",
    "        return \"No such character\"\n"
   ]
  },
  {
   "cell_type": "code",
   "execution_count": null,
   "id": "86694745",
   "metadata": {},
   "outputs": [],
   "source": [
    "# 18. Check if binary representations of two numbers are anagram\n",
    "def are_binary_representations_anagram(num1, num2):\n",
    "    binary_num1 = bin(num1)[2:]\n",
    "    binary_num2 = bin(num2)[2:]\n",
    "    return sorted(binary_num1) == sorted(binary_num2)\n"
   ]
  },
  {
   "cell_type": "code",
   "execution_count": null,
   "id": "77d05955",
   "metadata": {},
   "outputs": [],
   "source": [
    "# 19. Python Counter to find the size of the largest subset of anagram words\n",
    "from collections import Counter\n",
    "\n",
    "def size_of_largest_anagram_subset(words):\n",
    "    anagram_count = Counter([''.join(sorted(word)) for word in words])\n",
    "    return max(anagram_count.values())"
   ]
  },
  {
   "cell_type": "code",
   "execution_count": null,
   "id": "c76dc24e",
   "metadata": {},
   "outputs": [],
   "source": [
    "# 20. Python | Remove all duplicates words from a given sentence\n",
    "def remove_duplicates_from_sentence(sentence):\n",
    "    words = sentence.split()\n",
    "    unique_words = set(words)\n",
    "    return ' '.join(unique_words)\n"
   ]
  },
  {
   "cell_type": "code",
   "execution_count": null,
   "id": "6474e098",
   "metadata": {},
   "outputs": [],
   "source": [
    "# 21. Python Dictionary to find mirror characters in a string\n",
    "def find_mirror_characters(string):\n",
    "    mirror_dict = {'A': 'A', 'B': 'C', 'C': 'B', 'D': 'D', 'E': '3', '3': 'E'}\n",
    "    mirrored_string = ''.join(mirror_dict[char] for char in string if char in mirror_dict)\n",
    "    return mirrored_string"
   ]
  },
  {
   "cell_type": "code",
   "execution_count": null,
   "id": "eb23cd8c",
   "metadata": {},
   "outputs": [],
   "source": [
    "# 22. Counting the frequencies in a list using a dictionary in Python\n",
    "def count_frequencies_in_list(lst):\n",
    "    freq_dict = {}\n",
    "    for element in lst:\n",
    "        freq_dict[element] = freq_dict.get(element, 0) + 1\n",
    "    return freq_dict\n"
   ]
  },
  {
   "cell_type": "code",
   "execution_count": null,
   "id": "9755d6b6",
   "metadata": {},
   "outputs": [],
   "source": [
    "# 23. Python | Convert a list of Tuples into Dictionary\n",
    "def convert_tuples_list_to_dict(tuples_list):\n",
    "    result_dict = {}\n",
    "    for key, value in tuples_list:\n",
    "        result_dict[key] = value\n",
    "    return result_dict\n"
   ]
  },
  {
   "cell_type": "code",
   "execution_count": null,
   "id": "2d1df191",
   "metadata": {},
   "outputs": [],
   "source": [
    "# 24. Python counter and dictionary intersection example (Make a string using deletion and rearrangement)\n",
    "from collections import Counter\n",
    "\n",
    "def can_make_string_from_dicts(dict1, dict2, target_string):\n",
    "    target_counter = Counter(target_string)\n",
    "    return all(target_counter[key] <= min(dict1.get(key, 0), dict2.get(key, 0)) for key in target_counter)\n"
   ]
  },
  {
   "cell_type": "code",
   "execution_count": null,
   "id": "169b3982",
   "metadata": {},
   "outputs": [],
   "source": [
    "# 25. Python dictionary, set, and counter to check if frequencies can become the same\n",
    "from collections import Counter\n",
    "\n",
    "def can_frequencies_become_same(lst):\n",
    "    freq_count = Counter(lst)\n",
    "    freq_values = set(freq_count.values())\n",
    "    return len(freq_values) == 1 or (len(freq_values) == 2 and (1 in freq_values or abs(list(freq_values)[0] - list(freq_values)[1]) == 1))\n"
   ]
  },
  {
   "cell_type": "code",
   "execution_count": null,
   "id": "331db21a",
   "metadata": {},
   "outputs": [],
   "source": [
    "# 26. Scraping And Finding Ordered Words In A Dictionary using Python\n",
    "def find_ordered_words_in_dictionary(dictionary, prefix):\n",
    "    ordered_words = [word for word in dictionary if word.startswith(prefix)]\n",
    "    return ordered_words"
   ]
  },
  {
   "cell_type": "code",
   "execution_count": null,
   "id": "ef170f1d",
   "metadata": {},
   "outputs": [],
   "source": [
    "# 27. Possible Words using given characters in Python\n",
    "def possible_words_from_characters(chars, dictionary):\n",
    "    possible_words = [word for word in dictionary if set(word).issubset(set(chars))]\n",
    "    return possible_words\n"
   ]
  },
  {
   "cell_type": "code",
   "execution_count": null,
   "id": "e89e8509",
   "metadata": {},
   "outputs": [],
   "source": [
    "# 28. Python – Keys associated with Values in Dictionary\n",
    "def keys_associated_with_values(dictionary, values):\n",
    "    keys_associated = [key for key, value in dictionary.items() if value in values]\n",
    "    return keys_associated\n"
   ]
  }
 ],
 "metadata": {
  "kernelspec": {
   "display_name": "Python 3 (ipykernel)",
   "language": "python",
   "name": "python3"
  },
  "language_info": {
   "codemirror_mode": {
    "name": "ipython",
    "version": 3
   },
   "file_extension": ".py",
   "mimetype": "text/x-python",
   "name": "python",
   "nbconvert_exporter": "python",
   "pygments_lexer": "ipython3",
   "version": "3.9.12"
  }
 },
 "nbformat": 4,
 "nbformat_minor": 5
}
