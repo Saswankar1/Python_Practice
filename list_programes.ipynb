{
 "cells": [
  {
   "cell_type": "code",
   "execution_count": null,
   "metadata": {},
   "outputs": [],
   "source": [
    "# Program to interchange the first and last elements in a list\n",
    "def interchange_first_last(lst):\n",
    "    lst[0], lst[-1] = lst[-1], lst[0]\n",
    "    return lst\n",
    "\n",
    "# Example usage:\n",
    "my_list = [1, 2, 3, 4, 5]\n",
    "result = interchange_first_last(my_list)\n",
    "print(\"List after interchange:\", result)\n"
   ]
  },
  {
   "cell_type": "code",
   "execution_count": null,
   "metadata": {},
   "outputs": [],
   "source": [
    "# Program to swap two elements in a list\n",
    "def swap_elements(lst, pos1, pos2):\n",
    "    lst[pos1], lst[pos2] = lst[pos2], lst[pos1]\n",
    "    return lst\n",
    "\n",
    "# Example usage:\n",
    "my_list = [1, 2, 3, 4, 5]\n",
    "position1 = int(input(\"Enter the first position to swap: \"))\n",
    "position2 = int(input(\"Enter the second position to swap: \"))\n",
    "result = swap_elements(my_list, position1, position2)\n",
    "print(\"List after swapping:\", result)\n"
   ]
  },
  {
   "cell_type": "code",
   "execution_count": null,
   "metadata": {},
   "outputs": [],
   "source": [
    "# Ways to find the length of a list\n",
    "def find_length(lst):\n",
    "    # Using len() function\n",
    "    length1 = len(lst)\n",
    "\n",
    "    # Using loop\n",
    "    length2 = 0\n",
    "    for _ in lst:\n",
    "        length2 += 1\n",
    "\n",
    "    # Using list comprehension\n",
    "    length3 = sum(1 for _ in lst)\n",
    "\n",
    "    return length1, length2, length3\n",
    "\n",
    "# Example usage:\n",
    "my_list = [1, 2, 3, 4, 5]\n",
    "result = find_length(my_list)\n",
    "print(\"Lengths of the list:\", result)\n"
   ]
  },
  {
   "cell_type": "code",
   "execution_count": null,
   "metadata": {},
   "outputs": [],
   "source": [
    "# Ways to check if an element exists in a list\n",
    "def check_element_existence(lst, element):\n",
    "    # Using 'in' operator\n",
    "    method1 = element in lst\n",
    "\n",
    "    # Using count() method\n",
    "    method2 = lst.count(element) > 0\n",
    "\n",
    "    # Using any() with list comprehension\n",
    "    method3 = any(item == element for item in lst)\n",
    "\n",
    "    return method1, method2, method3\n",
    "\n",
    "# Example usage:\n",
    "my_list = [1, 2, 3, 4, 5]\n",
    "element_to_check = int(input(\"Enter the element to check: \"))\n",
    "result = check_element_existence(my_list, element_to_check)\n",
    "print(\"Element existence check results:\", result)\n"
   ]
  },
  {
   "cell_type": "code",
   "execution_count": null,
   "metadata": {},
   "outputs": [],
   "source": [
    "# Different ways to clear a list in Python\n",
    "def clear_list(lst):\n",
    "    # Method 1: Using clear() method\n",
    "    lst.clear()\n",
    "\n",
    "    # Method 2: Using assignment to an empty list\n",
    "    lst = []\n",
    "\n",
    "    # Method 3: Using slicing with an empty list\n",
    "    lst[:] = []\n",
    "\n",
    "    return lst\n",
    "\n",
    "# Example usage:\n",
    "my_list = [1, 2, 3, 4, 5]\n",
    "result = clear_list(my_list.copy())\n",
    "print(\"List after clearing:\", result)\n"
   ]
  },
  {
   "cell_type": "code",
   "execution_count": null,
   "metadata": {},
   "outputs": [],
   "source": [
    "# Program for reversing a list\n",
    "def reverse_list(lst):\n",
    "    return lst[::-1]\n",
    "\n",
    "# Example usage:\n",
    "my_list = [1, 2, 3, 4, 5]\n",
    "result = reverse_list(my_list.copy())\n",
    "print(\"Reversed list:\", result)\n"
   ]
  },
  {
   "cell_type": "code",
   "execution_count": null,
   "metadata": {},
   "outputs": [],
   "source": [
    "# Program to find the sum of elements in a list\n",
    "def sum_of_elements(lst):\n",
    "    return sum(lst)\n",
    "\n",
    "# Example usage:\n",
    "my_list = [1, 2, 3, 4, 5]\n",
    "result = sum_of_elements(my_list)\n",
    "print(\"Sum of elements in the list:\", result)\n"
   ]
  },
  {
   "cell_type": "code",
   "execution_count": null,
   "metadata": {},
   "outputs": [],
   "source": [
    "# Program to multiply all numbers in the list\n",
    "def multiply_all(lst):\n",
    "    result = 1\n",
    "    for num in lst:\n",
    "        result *= num\n",
    "    return result\n",
    "\n",
    "# Example usage:\n",
    "my_list = [1, 2, 3, 4, 5]\n",
    "result = multiply_all(my_list)\n",
    "print(\"Product of all numbers in the list:\", result)\n"
   ]
  },
  {
   "cell_type": "code",
   "execution_count": null,
   "metadata": {},
   "outputs": [],
   "source": [
    "# Program to find the smallest number in a list\n",
    "def find_smallest(lst):\n",
    "    return min(lst)\n",
    "\n",
    "# Example usage:\n",
    "my_list = [5, 2, 8, 1, 3]\n",
    "result = find_smallest(my_list)\n",
    "print(\"Smallest number in the list:\", result)\n"
   ]
  },
  {
   "cell_type": "code",
   "execution_count": null,
   "metadata": {},
   "outputs": [],
   "source": [
    "# Program to find the largest number in a list\n",
    "def find_largest(lst):\n",
    "    return max(lst)\n",
    "\n",
    "# Example usage:\n",
    "my_list = [5, 2, 8, 1, 3]\n",
    "result = find_largest(my_list)\n",
    "print(\"Largest number in the list:\", result)\n"
   ]
  },
  {
   "cell_type": "code",
   "execution_count": null,
   "metadata": {},
   "outputs": [],
   "source": [
    "# Program to find the second largest number in a list\n",
    "def find_second_largest(lst):\n",
    "    unique_numbers = list(set(lst))\n",
    "    unique_numbers.sort(reverse=True)\n",
    "\n",
    "    if len(unique_numbers) < 2:\n",
    "        return \"List does not have a second largest element\"\n",
    "    else:\n",
    "        return unique_numbers[1]\n",
    "\n",
    "# Example usage:\n",
    "my_list = [5, 2, 8, 1, 3]\n",
    "result = find_second_largest(my_list)\n",
    "print(\"Second largest number in the list:\", result)\n"
   ]
  },
  {
   "cell_type": "code",
   "execution_count": null,
   "metadata": {},
   "outputs": [],
   "source": [
    "# Program to find N largest elements from a list\n",
    "def find_n_largest(lst, N):\n",
    "    lst.sort(reverse=True)\n",
    "    return lst[:N]\n",
    "\n",
    "# Example usage:\n",
    "my_list = [5, 2, 8, 1, 3]\n",
    "N = int(input(\"Enter the value of N: \"))\n",
    "result = find_n_largest(my_list, N)\n",
    "print(f\"{N} largest elements in the list:\", result)\n"
   ]
  },
  {
   "cell_type": "code",
   "execution_count": null,
   "metadata": {},
   "outputs": [],
   "source": [
    "# Program to print even numbers in a list\n",
    "def print_even_numbers(lst):\n",
    "    even_numbers = [num for num in lst if num % 2 == 0]\n",
    "    return even_numbers\n",
    "\n",
    "# Example usage:\n",
    "my_list = [1, 2, 3, 4, 5]\n",
    "result = print_even_numbers(my_list)\n",
    "print(\"Even numbers in the list:\", result)\n"
   ]
  },
  {
   "cell_type": "code",
   "execution_count": null,
   "metadata": {},
   "outputs": [],
   "source": [
    "# Program to print odd numbers in a list\n",
    "def print_odd_numbers(lst):\n",
    "    odd_numbers = [num for num in lst if num % 2 != 0]\n",
    "    return odd_numbers\n",
    "\n",
    "# Example usage:\n",
    "my_list = [1, 2, 3, 4, 5]\n",
    "result = print_odd_numbers(my_list)\n",
    "print(\"Odd numbers in the list:\", result)\n"
   ]
  },
  {
   "cell_type": "code",
   "execution_count": null,
   "metadata": {},
   "outputs": [],
   "source": [
    "# Program to print all even numbers in a range\n",
    "def print_even_numbers_range(start, end):\n",
    "    even_numbers = [num for num in range(start, end + 1) if num % 2 == 0]\n",
    "    return even_numbers\n",
    "\n",
    "# Example usage:\n",
    "start_range = int(input(\"Enter the start of the range: \"))\n",
    "end_range = int(input(\"Enter the end of the range: \"))\n",
    "result = print_even_numbers_range(start_range, end_range)\n",
    "print(\"Even numbers in the range:\", result)\n"
   ]
  },
  {
   "cell_type": "code",
   "execution_count": null,
   "metadata": {},
   "outputs": [],
   "source": [
    "# Program to print all odd numbers in a range\n",
    "def print_odd_numbers_range(start, end):\n",
    "    odd_numbers = [num for num in range(start, end + 1) if num % 2 != 0]\n",
    "    return odd_numbers\n",
    "\n",
    "# Example usage:\n",
    "start_range = int(input(\"Enter the start of the range: \"))\n",
    "end_range = int(input(\"Enter the end of the range: \"))\n",
    "result = print_odd_numbers_range(start_range, end_range)\n",
    "print(\"Odd numbers in the range:\", result)\n"
   ]
  },
  {
   "cell_type": "code",
   "execution_count": null,
   "metadata": {},
   "outputs": [],
   "source": [
    "# Program to print positive numbers in a list\n",
    "def print_positive_numbers(lst):\n",
    "    positive_numbers = [num for num in lst if num > 0]\n",
    "    return positive_numbers\n",
    "\n",
    "# Example usage:\n",
    "my_list = [-1, 2, -3, 4, -5]\n",
    "result = print_positive_numbers(my_list)\n",
    "print(\"Positive numbers in the list:\", result)\n"
   ]
  },
  {
   "cell_type": "code",
   "execution_count": null,
   "metadata": {},
   "outputs": [],
   "source": [
    "# Program to print negative numbers in a list\n",
    "def print_negative_numbers(lst):\n",
    "    negative_numbers = [num for num in lst if num < 0]\n",
    "    return negative_numbers\n",
    "\n",
    "# Example usage:\n",
    "my_list = [-1, 2, -3, 4, -5]\n",
    "result = print_negative_numbers(my_list)\n",
    "print(\"Negative numbers in the list:\", result)\n"
   ]
  },
  {
   "cell_type": "code",
   "execution_count": null,
   "metadata": {},
   "outputs": [],
   "source": [
    "# Program to print all positive numbers in a range\n",
    "def print_positive_numbers_range(start, end):\n",
    "    positive_numbers = [num for num in range(start, end + 1) if num > 0]\n",
    "    return positive_numbers\n",
    "\n",
    "# Example usage:\n",
    "start_range = int(input(\"Enter the start of the range: \"))\n",
    "end_range = int(input(\"Enter the end of the range: \"))\n",
    "result = print_positive_numbers_range(start_range, end_range)\n",
    "print(\"Positive numbers in the range:\", result)\n"
   ]
  },
  {
   "cell_type": "code",
   "execution_count": null,
   "metadata": {},
   "outputs": [],
   "source": [
    "# Program to print all negative numbers in a range\n",
    "def print_negative_numbers_range(start, end):\n",
    "    negative_numbers = [num for num in range(start, end + 1) if num < 0]\n",
    "    return negative_numbers\n",
    "\n",
    "# Example usage:\n",
    "start_range = int(input(\"Enter the start of the range: \"))\n",
    "end_range = int(input(\"Enter the end of the range: \"))\n",
    "result = print_negative_numbers_range(start_range, end_range)\n",
    "print(\"Negative numbers in the range:\", result)\n"
   ]
  },
  {
   "cell_type": "code",
   "execution_count": null,
   "metadata": {},
   "outputs": [],
   "source": [
    "# Remove multiple elements from a list in Python\n",
    "def remove_elements(lst, elements_to_remove):\n",
    "    return [element for element in lst if element not in elements_to_remove]\n",
    "\n",
    "# Example usage:\n",
    "my_list = [1, 2, 3, 4, 5]\n",
    "elements_to_remove = [2, 4]\n",
    "result = remove_elements(my_list, elements_to_remove)\n",
    "print(\"List after removing elements:\", result)\n"
   ]
  },
  {
   "cell_type": "code",
   "execution_count": null,
   "metadata": {},
   "outputs": [],
   "source": [
    "# Python – Remove empty List from List\n",
    "def remove_empty_lists(lst):\n",
    "    return [sublist for sublist in lst if sublist]\n",
    "\n",
    "# Example usage:\n",
    "my_list = [1, [], 3, [], 5, []]\n",
    "result = remove_empty_lists(my_list)\n",
    "print(\"List after removing empty lists:\", result)\n"
   ]
  },
  {
   "cell_type": "code",
   "execution_count": null,
   "metadata": {},
   "outputs": [],
   "source": [
    "# Python | Cloning or Copying a list\n",
    "def clone_list(lst):\n",
    "    return lst.copy()\n",
    "\n",
    "# Example usage:\n",
    "my_list = [1, 2, 3, 4, 5]\n",
    "cloned_list = clone_list(my_list)\n",
    "print(\"Original list:\", my_list)\n",
    "print(\"Cloned list:\", cloned_list)\n"
   ]
  },
  {
   "cell_type": "code",
   "execution_count": null,
   "metadata": {},
   "outputs": [],
   "source": [
    "# Python | Count occurrences of an element in a list\n",
    "def count_occurrences(lst, element):\n",
    "    return lst.count(element)\n",
    "\n",
    "# Example usage:\n",
    "my_list = [1, 2, 3, 4, 2, 5, 2]\n",
    "element_to_count = int(input(\"Enter the element to count: \"))\n",
    "result = count_occurrences(my_list, element_to_count)\n",
    "print(f\"Occurrences of {element_to_count} in the list:\", result)\n"
   ]
  },
  {
   "cell_type": "code",
   "execution_count": null,
   "metadata": {},
   "outputs": [],
   "source": [
    "# Python | Remove empty tuples from a list\n",
    "def remove_empty_tuples(lst):\n",
    "    return [tup for tup in lst if tup]\n",
    "\n",
    "# Example usage:\n",
    "my_list = [(1, 2), (), (3, 4), (), (5, 6), ()]\n",
    "result = remove_empty_tuples(my_list)\n",
    "print(\"List after removing empty tuples:\", result)\n"
   ]
  },
  {
   "cell_type": "code",
   "execution_count": null,
   "metadata": {},
   "outputs": [],
   "source": [
    "# Python | Program to print duplicates from a list of integers\n",
    "def print_duplicates(lst):\n",
    "    seen = set()\n",
    "    duplicates = set(x for x in lst if x in seen or seen.add(x))\n",
    "    return list(duplicates)\n",
    "\n",
    "# Example usage:\n",
    "my_list = [1, 2, 3, 4, 2, 5, 2, 6, 4]\n",
    "result = print_duplicates(my_list)\n",
    "print(\"Duplicate elements in the list:\", result)\n"
   ]
  },
  {
   "cell_type": "code",
   "execution_count": null,
   "metadata": {},
   "outputs": [],
   "source": [
    "# Python program to find Cumulative sum of a list\n",
    "def cumulative_sum(lst):\n",
    "    result = [sum(lst[:i + 1]) for i in range(len(lst))]\n",
    "    return result\n",
    "\n",
    "# Example usage:\n",
    "my_list = [1, 2, 3, 4, 5]\n",
    "result = cumulative_sum(my_list)\n",
    "print(\"Cumulative sum of the list:\", result)\n"
   ]
  },
  {
   "cell_type": "code",
   "execution_count": null,
   "metadata": {},
   "outputs": [],
   "source": [
    "# Python | Sum of number digits in List\n",
    "def sum_of_digits(lst):\n",
    "    return [sum(map(int, str(num))) for num in lst]\n",
    "\n",
    "# Example usage:\n",
    "my_list = [123, 456, 789]\n",
    "result = sum_of_digits(my_list)\n",
    "print(\"Sum of digits in each number of the list:\", result)\n"
   ]
  },
  {
   "cell_type": "code",
   "execution_count": null,
   "metadata": {},
   "outputs": [],
   "source": [
    "# Break a list into chunks of size N in Python\n",
    "def break_into_chunks(lst, chunk_size):\n",
    "    return [lst[i:i + chunk_size] for i in range(0, len(lst), chunk_size)]\n",
    "\n",
    "# Example usage:\n",
    "my_list = [1, 2, 3, 4, 5, 6, 7, 8, 9, 10]\n",
    "chunk_size = int(input(\"Enter the size of each chunk: \"))\n",
    "result = break_into_chunks(my_list, chunk_size)\n",
    "print(\"List after breaking into chunks:\", result)\n"
   ]
  },
  {
   "cell_type": "code",
   "execution_count": null,
   "metadata": {},
   "outputs": [],
   "source": [
    "# Python | Sort the values of the first list using the second list\n",
    "def sort_using_second_list(list1, list2):\n",
    "    sorted_list = [x for _, x in sorted(zip(list2, list1))]\n",
    "    return sorted_list\n",
    "\n",
    "# Example usage:\n",
    "list1 = [1, 2, 3, 4, 5]\n",
    "list2 = [5, 4, 3, 2, 1]\n",
    "result = sort_using_second_list(list1, list2)\n",
    "print(\"List1 sorted using List2:\", result)\n"
   ]
  }
 ],
 "metadata": {
  "language_info": {
   "name": "python"
  }
 },
 "nbformat": 4,
 "nbformat_minor": 2
}
