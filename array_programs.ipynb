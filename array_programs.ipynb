{
 "cells": [
  {
   "cell_type": "code",
   "execution_count": null,
   "metadata": {},
   "outputs": [],
   "source": [
    "# Program to find the sum of an array\n",
    "def array_sum(arr):\n",
    "    return sum(arr)\n",
    "\n",
    "# Example usage:\n",
    "array = [1, 2, 3, 4, 5]\n",
    "result = array_sum(array)\n",
    "print(\"Sum of the array:\", result)\n"
   ]
  },
  {
   "cell_type": "code",
   "execution_count": null,
   "metadata": {},
   "outputs": [],
   "source": [
    "# Program to find the largest element in an array\n",
    "def find_largest(arr):\n",
    "    return max(arr)\n",
    "\n",
    "# Example usage:\n",
    "array = [12, 45, 78, 23, 56]\n",
    "result = find_largest(array)\n",
    "print(\"Largest element in the array:\", result)\n"
   ]
  },
  {
   "cell_type": "code",
   "execution_count": null,
   "metadata": {},
   "outputs": [],
   "source": [
    "# Program for array rotation\n",
    "def rotate_array(arr, k):\n",
    "    k = k % len(arr)\n",
    "    return arr[k:] + arr[:k]\n",
    "\n",
    "# Example usage:\n",
    "array = [1, 2, 3, 4, 5]\n",
    "rotation_steps = int(input(\"Enter the number of rotation steps: \"))\n",
    "result = rotate_array(array, rotation_steps)\n",
    "print(\"Array after rotation:\", result)\n"
   ]
  },
  {
   "cell_type": "code",
   "execution_count": null,
   "metadata": {},
   "outputs": [],
   "source": [
    "# Program for Reversal algorithm for array rotation\n",
    "def reverse_array(arr, start, end):\n",
    "    while start < end:\n",
    "        arr[start], arr[end] = arr[end], arr[start]\n",
    "        start += 1\n",
    "        end -= 1\n",
    "\n",
    "def rotate_array_reversal(arr, k):\n",
    "    k = k % len(arr)\n",
    "    reverse_array(arr, 0, k - 1)\n",
    "    reverse_array(arr, k, len(arr) - 1)\n",
    "    reverse_array(arr, 0, len(arr) - 1)\n",
    "    return arr\n",
    "\n",
    "# Example usage:\n",
    "array = [1, 2, 3, 4, 5]\n",
    "rotation_steps = int(input(\"Enter the number of rotation steps: \"))\n",
    "result = rotate_array_reversal(array, rotation_steps)\n",
    "print(\"Array after rotation:\", result)\n"
   ]
  },
  {
   "cell_type": "code",
   "execution_count": null,
   "metadata": {},
   "outputs": [],
   "source": [
    "# Program to split the array and add the first part to the end\n",
    "def split_and_add(arr, k):\n",
    "    return arr[k:] + arr[:k]\n",
    "\n",
    "# Example usage:\n",
    "array = [1, 2, 3, 4, 5]\n",
    "split_position = int(input(\"Enter the split position: \"))\n",
    "result = split_and_add(array, split_position)\n",
    "print(\"Array after split and add:\", result)\n"
   ]
  },
  {
   "cell_type": "code",
   "execution_count": null,
   "metadata": {},
   "outputs": [],
   "source": [
    "# Program to find the remainder of array multiplication divided by n\n",
    "def remainder_of_array_multiplication(arr, n):\n",
    "    result = 1\n",
    "    for num in arr:\n",
    "        result = (result * num) % n\n",
    "    return result\n",
    "\n",
    "# Example usage:\n",
    "array = [2, 3, 4, 5]\n",
    "modulus = int(input(\"Enter the value of n: \"))\n",
    "result = remainder_of_array_multiplication(array, modulus)\n",
    "print(\"Remainder of array multiplication divided by\", modulus, \"is:\", result)\n"
   ]
  },
  {
   "cell_type": "code",
   "execution_count": null,
   "metadata": {},
   "outputs": [],
   "source": [
    "# Program to check if the given array is Monotonic\n",
    "def is_monotonic(arr):\n",
    "    increasing = decreasing = True\n",
    "\n",
    "    for i in range(1, len(arr)):\n",
    "        if arr[i] > arr[i - 1]:\n",
    "            decreasing = False\n",
    "        elif arr[i] < arr[i - 1]:\n",
    "            increasing = False\n",
    "\n",
    "    return increasing or decreasing\n",
    "\n",
    "# Example usage:\n",
    "array = [1, 2, 3, 4, 5]\n",
    "result = is_monotonic(array)\n",
    "if result:\n",
    "    print(\"The array is monotonic.\")\n",
    "else:\n",
    "    print(\"The array is not monotonic.\")\n"
   ]
  }
 ],
 "metadata": {
  "language_info": {
   "name": "python"
  }
 },
 "nbformat": 4,
 "nbformat_minor": 2
}
