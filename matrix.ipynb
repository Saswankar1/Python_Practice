{
 "cells": [
  {
   "cell_type": "code",
   "execution_count": null,
   "metadata": {},
   "outputs": [],
   "source": [
    "# Program to add two matrices\n",
    "def add_matrices(mat1, mat2):\n",
    "    result = [[mat1[i][j] + mat2[i][j] for j in range(len(mat1[0]))] for i in range(len(mat1))]\n",
    "    return result\n",
    "\n",
    "# Example usage:\n",
    "matrix1 = [[1, 2, 3], [4, 5, 6], [7, 8, 9]]\n",
    "matrix2 = [[9, 8, 7], [6, 5, 4], [3, 2, 1]]\n",
    "result = add_matrices(matrix1, matrix2)\n",
    "print(\"Matrix after addition:\")\n",
    "for row in result:\n",
    "    print(row)\n"
   ]
  },
  {
   "cell_type": "code",
   "execution_count": null,
   "metadata": {},
   "outputs": [],
   "source": [
    "# Program to multiply two matrices\n",
    "def multiply_matrices(mat1, mat2):\n",
    "    result = [[sum(mat1[i][k] * mat2[k][j] for k in range(len(mat2))) for j in range(len(mat2[0]))] for i in range(len(mat1))]\n",
    "    return result\n",
    "\n",
    "# Example usage:\n",
    "matrix1 = [[1, 2, 3], [4, 5, 6], [7, 8, 9]]\n",
    "matrix2 = [[9, 8, 7], [6, 5, 4], [3, 2, 1]]\n",
    "result = multiply_matrices(matrix1, matrix2)\n",
    "print(\"Matrix after multiplication:\")\n",
    "for row in result:\n",
    "    print(row)\n"
   ]
  },
  {
   "cell_type": "code",
   "execution_count": null,
   "metadata": {},
   "outputs": [],
   "source": [
    "# Program for Matrix Product\n",
    "def matrix_product(mat1, mat2):\n",
    "    result = [[sum(mat1[i][k] * mat2[k][j] for k in range(len(mat2))) for j in range(len(mat2[0]))] for i in range(len(mat1))]\n",
    "    return result\n",
    "\n",
    "# Example usage:\n",
    "matrix1 = [[1, 2, 3], [4, 5, 6], [7, 8, 9]]\n",
    "matrix2 = [[9, 8, 7], [6, 5, 4], [3, 2, 1]]\n",
    "result = matrix_product(matrix1, matrix2)\n",
    "print(\"Matrix Product:\")\n",
    "for row in result:\n",
    "    print(row)\n"
   ]
  },
  {
   "cell_type": "code",
   "execution_count": null,
   "metadata": {},
   "outputs": [],
   "source": [
    "# Adding and Subtracting Matrices in Python\n",
    "def add_matrices(mat1, mat2):\n",
    "    result_add = [[mat1[i][j] + mat2[i][j] for j in range(len(mat1[0]))] for i in range(len(mat1))]\n",
    "    result_sub = [[mat1[i][j] - mat2[i][j] for j in range(len(mat1[0]))] for i in range(len(mat1))]\n",
    "    return result_add, result_sub\n",
    "\n",
    "# Example usage:\n",
    "matrix1 = [[1, 2, 3], [4, 5, 6], [7, 8, 9]]\n",
    "matrix2 = [[9, 8, 7], [6, 5, 4], [3, 2, 1]]\n",
    "result_add, result_sub = add_matrices(matrix1, matrix2)\n",
    "print(\"Matrix Addition:\")\n",
    "for row in result_add:\n",
    "    print(row)\n",
    "\n",
    "print(\"\\nMatrix Subtraction:\")\n",
    "for row in result_sub:\n",
    "    print(row)\n"
   ]
  },
  {
   "cell_type": "code",
   "execution_count": null,
   "metadata": {},
   "outputs": [],
   "source": [
    "# Transpose a matrix in a single line in Python\n",
    "def transpose_matrix(mat):\n",
    "    return [[mat[j][i] for j in range(len(mat))] for i in range(len(mat[0]))]\n",
    "\n",
    "# Example usage:\n",
    "matrix = [[1, 2, 3], [4, 5, 6], [7, 8, 9]]\n",
    "result = transpose_matrix(matrix)\n",
    "print(\"Transposed Matrix:\")\n",
    "for row in result:\n",
    "    print(row)\n"
   ]
  },
  {
   "cell_type": "code",
   "execution_count": null,
   "metadata": {},
   "outputs": [],
   "source": [
    "# Python | Matrix creation of n*n\n",
    "def create_matrix(n):\n",
    "    return [[0 for _ in range(n)] for _ in range(n)]\n",
    "\n",
    "# Example usage:\n",
    "size = int(input(\"Enter the size of the square matrix: \"))\n",
    "result = create_matrix(size)\n",
    "print(\"Matrix of size\", size, \"x\", size, \"created:\")\n",
    "for row in result:\n",
    "    print(row)\n"
   ]
  },
  {
   "cell_type": "code",
   "execution_count": null,
   "metadata": {},
   "outputs": [],
   "source": [
    "# Python | Get Kth Column of Matrix\n",
    "def get_kth_column(mat, k):\n",
    "    return [row[k] for row in mat]\n",
    "\n",
    "# Example usage:\n",
    "matrix = [[1, 2, 3], [4, 5, 6], [7, 8, 9]]\n",
    "column_index = int(input(\"Enter the index of the column to retrieve: \"))\n",
    "result = get_kth_column(matrix, column_index)\n",
    "print(f\"Kth Column ({column_index}):\", result)\n"
   ]
  },
  {
   "cell_type": "code",
   "execution_count": null,
   "metadata": {},
   "outputs": [],
   "source": [
    "# Python – Vertical Concatenation in Matrix\n",
    "def vertical_concatenation(mat1, mat2):\n",
    "    return mat1 + mat2\n",
    "\n",
    "# Example usage:\n",
    "matrix1 = [[1, 2, 3], [4, 5, 6]]\n",
    "matrix2 = [[7, 8, 9], [10, 11, 12]]\n",
    "result = vertical_concatenation(matrix1, matrix2)\n",
    "print(\"Matrix after vertical concatenation:\")\n",
    "for row in result:\n",
    "    print(row)\n"
   ]
  }
 ],
 "metadata": {
  "language_info": {
   "name": "python"
  }
 },
 "nbformat": 4,
 "nbformat_minor": 2
}
